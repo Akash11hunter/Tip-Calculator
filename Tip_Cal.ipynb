{
  "nbformat": 4,
  "nbformat_minor": 0,
  "metadata": {
    "colab": {
      "provenance": []
    },
    "kernelspec": {
      "name": "python3",
      "display_name": "Python 3"
    },
    "language_info": {
      "name": "python"
    }
  },
  "cells": [
    {
      "cell_type": "code",
      "execution_count": null,
      "metadata": {
        "id": "rdMSFA5MnmsE"
      },
      "outputs": [],
      "source": [
        "num1 = int(input())\n",
        "num2 = int(input())\n",
        "product = num1 * num2\n",
        "print(product)"
      ]
    }
  ]
}